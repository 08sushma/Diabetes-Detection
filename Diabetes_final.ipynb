{
 "cells": [
  {
   "cell_type": "code",
   "execution_count": 1,
   "metadata": {},
   "outputs": [
    {
     "name": "stderr",
     "output_type": "stream",
     "text": [
      "Using TensorFlow backend.\n"
     ]
    }
   ],
   "source": [
    "import numpy as np\n",
    "from keras.preprocessing.image import ImageDataGenerator, img_to_array, load_img\n",
    "from keras.models import Sequential\n",
    "from keras.layers import Dropout, Flatten, Dense\n",
    "from keras import applications\n",
    "from keras.utils.np_utils import to_categorical\n",
    "from keras import layers\n",
    "from keras import models\n",
    "from keras import optimizers\n",
    "from keras.preprocessing.image import ImageDataGenerator\n",
    "from keras.preprocessing.image import img_to_array, load_img\n",
    "import math\n",
    "import cv2\n",
    "import os\n",
    "import time\n",
    "from keras.utils.vis_utils import plot_model\n",
    "img_width, img_height = 250, 250\n",
    "top_model_weights_path = 'diabetes.h5'\n",
    "epochs = 50\n",
    "batch_size = 16\n",
    "#cap = cv2.VideoCapture(0)\n",
    "num_classes = 1\n",
    "model1 = Sequential()\n",
    "model1.add(layers.Conv2D(32, (3,3), activation = 'relu', input_shape = (250,250,3)))\n",
    "model1.add(layers.MaxPooling2D(2,2))\n",
    "model1.add(layers.Conv2D(64, (3,3), activation = 'relu'))\n",
    "model1.add(layers.MaxPooling2D(2,2))\n",
    "model1.add(layers.Conv2D(128, (3,3), activation = 'relu'))\n",
    "model1.add(layers.MaxPooling2D(2,2))\n",
    "model1.add(layers.Conv2D(128, (3,3), activation = 'relu'))\n",
    "model1.add(layers.MaxPooling2D(2,2))\n",
    "model1.add(layers.Flatten())\n",
    "model1.add(layers.Dropout(0.5))\n",
    "model1.add(layers.Dense(units = 512, activation = 'relu'))\n",
    "model1.add(layers.Dense(units = 5, activation = 'sigmoid'))\n",
    "model1.load_weights(top_model_weights_path)\n",
    "def predict(orig,model1):\n",
    "    orig = cv2.resize(orig,(250,250))\n",
    "    #cv2.imshow(\"img\",orig)\n",
    "    print(\"[INFO] loading and preprocessing image...\")\n",
    "    image = img_to_array(orig)\n",
    "    image = image / 255\n",
    "    image = np.expand_dims(image, axis=0)\n",
    "    class_predicted = model1.predict_classes(image)\n",
    "    inID = class_predicted[0]\n",
    "    if inID == 4:\n",
    "        print(\"Mild Diabetes\")\n",
    "    if inID == 2:\n",
    "        print(\"No Diabetes\")\n",
    "    if inID == 1:\n",
    "        print(\"Proliferative Diabetes\")\n",
    "    if inID == 0:\n",
    "        print(\"Severe Diabetes\")\n",
    "    return inID\n",
    "\n",
    "\n",
    "# count=0\n",
    "# while True:\n",
    "    # count=count+1\n",
    "    # ret,frame = cap.read()\n",
    "    # cv2.imshow(\"img\",frame)\n",
    "    # k=cv2.waitKey(30) & 0xff\n",
    "    # if k==27:\n",
    "        # start = time.time()\n",
    "        # I=predict(frame,model1,model2)\n",
    "        # motor(I)\n",
    "        # print((time.time()-start)/1000) \n",
    "        # count=0\n",
    "    # if k==32:\n",
    "        # break\n",
    "# cap.release()\n",
    "# cv2.destroyAllWindows()\n",
    "\n",
    "\n",
    "\n"
   ]
  },
  {
   "cell_type": "code",
   "execution_count": 11,
   "metadata": {},
   "outputs": [
    {
     "name": "stdout",
     "output_type": "stream",
     "text": [
      "[INFO] loading and preprocessing image...\n",
      "Proliferative Diabetes\n",
      "0.00026564908027648925\n"
     ]
    }
   ],
   "source": [
    "#ret,frame = cap.read()\n",
    "#cv2.imshow(\"img1\",frame)\n",
    "#cv2.waitKey(0)\n",
    "frame = cv2.imread(r'C:\\Users\\Admin\\Desktop\\images\\Mod\\37216_lokesh__OD_(7347) - Copy.jpg')\n",
    "#cv2.imshow(\"image\", frame)\n",
    "#I=predict(frame,model1)\n",
    "start = time.time()\n",
    "I=predict(frame,model1)\n",
    "# motor(I)\n",
    "print((time.time()-start)/1000) \n",
    "#cap.release()\n",
    "#cv2.destroyAllWindows()\n",
    "\n",
    "\n",
    "\n"
   ]
  },
  {
   "cell_type": "code",
   "execution_count": null,
   "metadata": {},
   "outputs": [],
   "source": []
  },
  {
   "cell_type": "code",
   "execution_count": 27,
   "metadata": {},
   "outputs": [
    {
     "name": "stdout",
     "output_type": "stream",
     "text": [
      "4\n"
     ]
    }
   ],
   "source": [
    "print(I) #abnormality == 1"
   ]
  },
  {
   "cell_type": "code",
   "execution_count": 28,
   "metadata": {},
   "outputs": [
    {
     "name": "stdout",
     "output_type": "stream",
     "text": [
      "4\n"
     ]
    }
   ],
   "source": [
    "print(I)#normal == 0"
   ]
  },
  {
   "cell_type": "code",
   "execution_count": null,
   "metadata": {},
   "outputs": [],
   "source": []
  },
  {
   "cell_type": "code",
   "execution_count": null,
   "metadata": {},
   "outputs": [],
   "source": []
  }
 ],
 "metadata": {
  "kernelspec": {
   "display_name": "Python 3",
   "language": "python",
   "name": "python3"
  },
  "language_info": {
   "codemirror_mode": {
    "name": "ipython",
    "version": 3
   },
   "file_extension": ".py",
   "mimetype": "text/x-python",
   "name": "python",
   "nbconvert_exporter": "python",
   "pygments_lexer": "ipython3",
   "version": "3.6.5"
  }
 },
 "nbformat": 4,
 "nbformat_minor": 2
}
